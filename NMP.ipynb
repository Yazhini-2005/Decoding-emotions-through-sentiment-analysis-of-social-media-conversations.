{
  "nbformat": 4,
  "nbformat_minor": 0,
  "metadata": {
    "colab": {
      "provenance": [],
      "authorship_tag": "ABX9TyN3c/BjUk/kMfad/LTrH0vj",
      "include_colab_link": true
    },
    "kernelspec": {
      "name": "python3",
      "display_name": "Python 3"
    },
    "language_info": {
      "name": "python"
    }
  },
  "cells": [
    {
      "cell_type": "markdown",
      "metadata": {
        "id": "view-in-github",
        "colab_type": "text"
      },
      "source": [
        "<a href=\"https://colab.research.google.com/github/Yazhini-2005/Decoding-emotions-through-sentiment-analysis-of-social-media-conversations./blob/main/NMP.ipynb\" target=\"_parent\"><img src=\"https://colab.research.google.com/assets/colab-badge.svg\" alt=\"Open In Colab\"/></a>"
      ]
    },
    {
      "cell_type": "code",
      "execution_count": 1,
      "metadata": {
        "colab": {
          "base_uri": "https://localhost:8080/"
        },
        "id": "NPNWy4DETMgI",
        "outputId": "8198e38c-7c3e-473f-d21d-1210101ff594"
      },
      "outputs": [
        {
          "output_type": "stream",
          "name": "stdout",
          "text": [
            "Sample dataset created as 'social_media_emotions.csv'\n",
            "                                        text  emotion\n",
            "0            I just got a promotion at work!      joy\n",
            "1              I'm feeling really low today.  sadness\n",
            "2            That jump scare was terrifying!     fear\n",
            "3                  What a beautiful wedding.      joy\n",
            "4  I'm furious about the delay in my flight.    anger\n"
          ]
        },
        {
          "output_type": "stream",
          "name": "stderr",
          "text": [
            "[nltk_data] Downloading package stopwords to /root/nltk_data...\n",
            "[nltk_data]   Unzipping corpora/stopwords.zip.\n"
          ]
        },
        {
          "output_type": "stream",
          "name": "stdout",
          "text": [
            "Original shape: (15, 2)\n",
            "Cleaned shape: (15, 3)\n",
            "                  cleaned_text  emotion\n",
            "0           got promotion work      joy\n",
            "1  im feeling really low today  sadness\n",
            "2        jump scare terrifying     fear\n",
            "3            beautiful wedding      joy\n",
            "4      im furious delay flight    anger\n"
          ]
        }
      ],
      "source": [
        "import pandas as pd\n",
        "\n",
        "# Sample social media posts and emotions\n",
        "data = {\n",
        "    'text': [\n",
        "        \"I just got a promotion at work!\",\n",
        "        \"I'm feeling really low today.\",\n",
        "        \"That jump scare was terrifying!\",\n",
        "        \"What a beautiful wedding.\",\n",
        "        \"I'm furious about the delay in my flight.\",\n",
        "        \"Just won the lottery!\",\n",
        "        \"Missed my bus again. Ugh!\",\n",
        "        \"Why did this happen to me?\",\n",
        "        \"OMG I can't believe it!\",\n",
        "        \"The sunset is breathtaking.\",\n",
        "        \"I'm so anxious for the interview.\",\n",
        "        \"This made my day!\",\n",
        "        \"Everything is ruined.\",\n",
        "        \"Totally unexpected surprise party!\",\n",
        "        \"I hate when people lie.\"\n",
        "    ],\n",
        "    'emotion': [\n",
        "        'joy', 'sadness', 'fear', 'joy', 'anger',\n",
        "        'joy', 'anger', 'sadness', 'surprise', 'joy',\n",
        "        'fear', 'joy', 'sadness', 'surprise', 'anger'\n",
        "    ]\n",
        "}\n",
        "\n",
        "# Create and save DataFrame\n",
        "df = pd.DataFrame(data)\n",
        "df.to_csv('social_media_emotions.csv', index=False)\n",
        "\n",
        "print(\"Sample dataset created as 'social_media_emotions.csv'\")\n",
        "\n",
        "df = pd.read_csv('social_media_emotions.csv')\n",
        "print(df.head())\n",
        "\n",
        "import pandas as pd\n",
        "import numpy as np\n",
        "import re\n",
        "import nltk\n",
        "from nltk.corpus import stopwords\n",
        "\n",
        "# Download NLTK stopwords\n",
        "nltk.download('stopwords')\n",
        "stop_words = set(stopwords.words('english'))\n",
        "\n",
        "# Load the dataset\n",
        "df = pd.read_csv(\"social_media_emotions.csv\")\n",
        "print(\"Original shape:\", df.shape)\n",
        "\n",
        "# Drop missing and duplicate entries\n",
        "df.dropna(subset=['text', 'emotion'], inplace=True)\n",
        "df.drop_duplicates(subset='text', inplace=True)\n",
        "\n",
        "# Filter out very short texts\n",
        "df = df[df['text'].apply(lambda x: len(str(x).split()) > 2)]\n",
        "\n",
        "# Define cleaning function\n",
        "def clean_text(text):\n",
        "    text = text.lower()\n",
        "    text = re.sub(r\"http\\S+|www\\S+|https\\S+\", '', text)  # Remove URLs\n",
        "    text = re.sub(r'@\\w+|#', '', text)  # Remove mentions and hashtags\n",
        "    text = re.sub(r'[^\\w\\s]', '', text)  # Remove punctuation\n",
        "    text = re.sub(r'\\d+', '', text)  # Remove digits\n",
        "    tokens = text.split()\n",
        "    tokens = [word for word in tokens if word not in stop_words]\n",
        "    return ' '.join(tokens)\n",
        "\n",
        "# Apply text cleaning\n",
        "df['cleaned_text'] = df['text'].apply(clean_text)\n",
        "\n",
        "# Final output\n",
        "print(\"Cleaned shape:\", df.shape)\n",
        "print(df[['cleaned_text', 'emotion']].head())  # show emotion instead of encoded_emotion"
      ]
    }
  ]
}